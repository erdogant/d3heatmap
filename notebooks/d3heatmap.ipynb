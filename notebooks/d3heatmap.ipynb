{
  "nbformat": 4,
  "nbformat_minor": 0,
  "metadata": {
    "colab": {
      "name": "d3heatmap.ipynb",
      "provenance": []
    },
    "kernelspec": {
      "name": "python3",
      "display_name": "Python 3"
    }
  },
  "cells": [
    {
      "cell_type": "markdown",
      "metadata": {
        "id": "bn1shPtj5B1K"
      },
      "source": [
        "**d3heatmap** is a Python package to create *interactive heatmaps* based on d3js. \n",
        "\n",
        "The **aim** of d3heatmap is to create interactive heatmaps that can be used stand-alone and visual attractive. This library does **not** require you any additional installation, downloads or setting paths to your systems environments. You just need python and this library. All other is taken care off. There are two main functions to create a heatmap matrix and heatmap and there are some differences between the two.\n",
        "\n",
        "More information can be found here:\n",
        "\n",
        "* [Github](https://github.com/erdogant/d3heatmap)\n",
        "\n"
      ]
    },
    {
      "cell_type": "code",
      "metadata": {
        "id": "bLW2rBTm5A_Y"
      },
      "source": [
        "!pip install -U d3heatmap"
      ],
      "execution_count": null,
      "outputs": []
    },
    {
      "cell_type": "code",
      "metadata": {
        "id": "rsF9wTuj6yEV"
      },
      "source": [
        "import d3heatmap\n",
        "print(d3heatmap.__version__)"
      ],
      "execution_count": null,
      "outputs": []
    },
    {
      "cell_type": "code",
      "metadata": {
        "id": "-b-D9mmG5y9v"
      },
      "source": [
        "# Load library\n",
        "from d3heatmap import d3heatmap as d3"
      ],
      "execution_count": null,
      "outputs": []
    },
    {
      "cell_type": "code",
      "metadata": {
        "id": "lNB2xz-t5oyP"
      },
      "source": [
        "# Load some random data\n",
        "df = d3.import_example()"
      ],
      "execution_count": null,
      "outputs": []
    },
    {
      "cell_type": "code",
      "metadata": {
        "id": "8ppPQe235vpj"
      },
      "source": [
        "# Create heatmap. Note that this is not allowed on colab as it requires to write the html file to disk.\n",
        "paths = results = d3.heatmap(df, showfig=False)"
      ],
      "execution_count": null,
      "outputs": []
    },
    {
      "cell_type": "code",
      "metadata": {
        "id": "ofV4mvHU63pd"
      },
      "source": [
        ""
      ],
      "execution_count": null,
      "outputs": []
    }
  ]
}